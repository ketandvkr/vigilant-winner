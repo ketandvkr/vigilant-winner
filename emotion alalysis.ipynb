{
 "cells": [
  {
   "cell_type": "code",
   "execution_count": 5,
   "metadata": {},
   "outputs": [
    {
     "name": "stderr",
     "output_type": "stream",
     "text": [
      "[nltk_data] Downloading package punkt to\n",
      "[nltk_data]     C:\\Users\\ketan\\AppData\\Roaming\\nltk_data...\n",
      "[nltk_data]   Package punkt is already up-to-date!\n",
      "[nltk_data] Downloading package averaged_perceptron_tagger to\n",
      "[nltk_data]     C:\\Users\\ketan\\AppData\\Roaming\\nltk_data...\n",
      "[nltk_data]   Package averaged_perceptron_tagger is already up-to-\n",
      "[nltk_data]       date!\n",
      "[nltk_data] Downloading package maxent_ne_chunker to\n",
      "[nltk_data]     C:\\Users\\ketan\\AppData\\Roaming\\nltk_data...\n",
      "[nltk_data]   Package maxent_ne_chunker is already up-to-date!\n",
      "[nltk_data] Downloading package words to\n",
      "[nltk_data]     C:\\Users\\ketan\\AppData\\Roaming\\nltk_data...\n",
      "[nltk_data]   Package words is already up-to-date!\n"
     ]
    },
    {
     "data": {
      "text/plain": [
       "True"
      ]
     },
     "execution_count": 5,
     "metadata": {},
     "output_type": "execute_result"
    }
   ],
   "source": [
    "import pandas as pd\n",
    "import seaborn as ans\n",
    "import numpy as np\n",
    "import zipfile\n",
    "import matplotlib.pyplot as plt\n",
    "\n",
    "import nltk\n",
    "from nltk.tokenize import word_tokenize\n",
    "nltk.download('punkt')\n",
    "from nltk.tag import pos_tag\n",
    "nltk.download('averaged_perceptron_tagger')\n",
    "nltk.download('maxent_ne_chunker')\n",
    "nltk.download('words')\n",
    "\n"
   ]
  },
  {
   "cell_type": "code",
   "execution_count": 6,
   "metadata": {},
   "outputs": [],
   "source": [
    "df=pd.read_csv(\"E:/myapp/Reviews.csv.zip\")"
   ]
  },
  {
   "cell_type": "code",
   "execution_count": 7,
   "metadata": {},
   "outputs": [
    {
     "data": {
      "text/html": [
       "<div>\n",
       "<style scoped>\n",
       "    .dataframe tbody tr th:only-of-type {\n",
       "        vertical-align: middle;\n",
       "    }\n",
       "\n",
       "    .dataframe tbody tr th {\n",
       "        vertical-align: top;\n",
       "    }\n",
       "\n",
       "    .dataframe thead th {\n",
       "        text-align: right;\n",
       "    }\n",
       "</style>\n",
       "<table border=\"1\" class=\"dataframe\">\n",
       "  <thead>\n",
       "    <tr style=\"text-align: right;\">\n",
       "      <th></th>\n",
       "      <th>Id</th>\n",
       "      <th>ProductId</th>\n",
       "      <th>UserId</th>\n",
       "      <th>ProfileName</th>\n",
       "      <th>HelpfulnessNumerator</th>\n",
       "      <th>HelpfulnessDenominator</th>\n",
       "      <th>Score</th>\n",
       "      <th>Time</th>\n",
       "      <th>Summary</th>\n",
       "      <th>Text</th>\n",
       "    </tr>\n",
       "  </thead>\n",
       "  <tbody>\n",
       "    <tr>\n",
       "      <th>0</th>\n",
       "      <td>1</td>\n",
       "      <td>B001E4KFG0</td>\n",
       "      <td>A3SGXH7AUHU8GW</td>\n",
       "      <td>delmartian</td>\n",
       "      <td>1</td>\n",
       "      <td>1</td>\n",
       "      <td>5</td>\n",
       "      <td>1303862400</td>\n",
       "      <td>Good Quality Dog Food</td>\n",
       "      <td>I have bought several of the Vitality canned d...</td>\n",
       "    </tr>\n",
       "    <tr>\n",
       "      <th>1</th>\n",
       "      <td>2</td>\n",
       "      <td>B00813GRG4</td>\n",
       "      <td>A1D87F6ZCVE5NK</td>\n",
       "      <td>dll pa</td>\n",
       "      <td>0</td>\n",
       "      <td>0</td>\n",
       "      <td>1</td>\n",
       "      <td>1346976000</td>\n",
       "      <td>Not as Advertised</td>\n",
       "      <td>Product arrived labeled as Jumbo Salted Peanut...</td>\n",
       "    </tr>\n",
       "    <tr>\n",
       "      <th>2</th>\n",
       "      <td>3</td>\n",
       "      <td>B000LQOCH0</td>\n",
       "      <td>ABXLMWJIXXAIN</td>\n",
       "      <td>Natalia Corres \"Natalia Corres\"</td>\n",
       "      <td>1</td>\n",
       "      <td>1</td>\n",
       "      <td>4</td>\n",
       "      <td>1219017600</td>\n",
       "      <td>\"Delight\" says it all</td>\n",
       "      <td>This is a confection that has been around a fe...</td>\n",
       "    </tr>\n",
       "    <tr>\n",
       "      <th>3</th>\n",
       "      <td>4</td>\n",
       "      <td>B000UA0QIQ</td>\n",
       "      <td>A395BORC6FGVXV</td>\n",
       "      <td>Karl</td>\n",
       "      <td>3</td>\n",
       "      <td>3</td>\n",
       "      <td>2</td>\n",
       "      <td>1307923200</td>\n",
       "      <td>Cough Medicine</td>\n",
       "      <td>If you are looking for the secret ingredient i...</td>\n",
       "    </tr>\n",
       "    <tr>\n",
       "      <th>4</th>\n",
       "      <td>5</td>\n",
       "      <td>B006K2ZZ7K</td>\n",
       "      <td>A1UQRSCLF8GW1T</td>\n",
       "      <td>Michael D. Bigham \"M. Wassir\"</td>\n",
       "      <td>0</td>\n",
       "      <td>0</td>\n",
       "      <td>5</td>\n",
       "      <td>1350777600</td>\n",
       "      <td>Great taffy</td>\n",
       "      <td>Great taffy at a great price.  There was a wid...</td>\n",
       "    </tr>\n",
       "  </tbody>\n",
       "</table>\n",
       "</div>"
      ],
      "text/plain": [
       "   Id   ProductId          UserId                      ProfileName  \\\n",
       "0   1  B001E4KFG0  A3SGXH7AUHU8GW                       delmartian   \n",
       "1   2  B00813GRG4  A1D87F6ZCVE5NK                           dll pa   \n",
       "2   3  B000LQOCH0   ABXLMWJIXXAIN  Natalia Corres \"Natalia Corres\"   \n",
       "3   4  B000UA0QIQ  A395BORC6FGVXV                             Karl   \n",
       "4   5  B006K2ZZ7K  A1UQRSCLF8GW1T    Michael D. Bigham \"M. Wassir\"   \n",
       "\n",
       "   HelpfulnessNumerator  HelpfulnessDenominator  Score        Time  \\\n",
       "0                     1                       1      5  1303862400   \n",
       "1                     0                       0      1  1346976000   \n",
       "2                     1                       1      4  1219017600   \n",
       "3                     3                       3      2  1307923200   \n",
       "4                     0                       0      5  1350777600   \n",
       "\n",
       "                 Summary                                               Text  \n",
       "0  Good Quality Dog Food  I have bought several of the Vitality canned d...  \n",
       "1      Not as Advertised  Product arrived labeled as Jumbo Salted Peanut...  \n",
       "2  \"Delight\" says it all  This is a confection that has been around a fe...  \n",
       "3         Cough Medicine  If you are looking for the secret ingredient i...  \n",
       "4            Great taffy  Great taffy at a great price.  There was a wid...  "
      ]
     },
     "execution_count": 7,
     "metadata": {},
     "output_type": "execute_result"
    }
   ],
   "source": [
    "df.head(5)"
   ]
  },
  {
   "cell_type": "code",
   "execution_count": 8,
   "metadata": {},
   "outputs": [
    {
     "data": {
      "text/plain": [
       "(568454, 10)"
      ]
     },
     "execution_count": 8,
     "metadata": {},
     "output_type": "execute_result"
    }
   ],
   "source": [
    "df.shape"
   ]
  },
  {
   "cell_type": "code",
   "execution_count": 9,
   "metadata": {},
   "outputs": [
    {
     "data": {
      "text/plain": [
       "Index(['Id', 'ProductId', 'UserId', 'ProfileName', 'HelpfulnessNumerator',\n",
       "       'HelpfulnessDenominator', 'Score', 'Time', 'Summary', 'Text'],\n",
       "      dtype='object')"
      ]
     },
     "execution_count": 9,
     "metadata": {},
     "output_type": "execute_result"
    }
   ],
   "source": [
    "df.columns"
   ]
  },
  {
   "cell_type": "code",
   "execution_count": 10,
   "metadata": {},
   "outputs": [],
   "source": [
    "#Quick eda"
   ]
  },
  {
   "cell_type": "code",
   "execution_count": 11,
   "metadata": {},
   "outputs": [
    {
     "data": {
      "image/png": "[encoded data removed]",
      "text/plain": [
       "<Figure size 1000x500 with 1 Axes>"
      ]
     },
     "metadata": {},
     "output_type": "display_data"
    }
   ],
   "source": [
    "ax=df['Score'].value_counts().sort_index().plot(kind='bar',title='count of reviwes',figsize=(10,5))\n",
    "ax.set_xlabel('review stars')\n",
    "ax.set_ylabel('review count')\n",
    "plt.show()"
   ]
  },
  {
   "cell_type": "code",
   "execution_count": 12,
   "metadata": {},
   "outputs": [
    {
     "name": "stdout",
     "output_type": "stream",
     "text": [
      "I have never been a huge coffee fan. However, my mother purchased this little machine and talked me into trying the Latte Macciato. No Coffee Shop has a better one and I like most of the other products, too (as a usually non-coffee drinker!).<br />The little Dolche Guesto Machine is super easy to use and prepares a really good Coffee/Latte/Cappuccino/etc in less than a minute (if water is heated up). I would recommend the Dolce Gusto to anyone. Too good for the price and I'am getting one myself! :)\n"
     ]
    }
   ],
   "source": [
    "example=df['Text'][30]\n",
    "print(example)"
   ]
  },
  {
   "cell_type": "code",
   "execution_count": 13,
   "metadata": {},
   "outputs": [],
   "source": [
    "tokens = word_tokenize(example)\n",
    "\n"
   ]
  },
  {
   "cell_type": "code",
   "execution_count": 14,
   "metadata": {},
   "outputs": [
    {
     "data": {
      "text/plain": [
       "['I',\n",
       " 'have',\n",
       " 'never',\n",
       " 'been',\n",
       " 'a',\n",
       " 'huge',\n",
       " 'coffee',\n",
       " 'fan',\n",
       " '.',\n",
       " 'However',\n",
       " ',',\n",
       " 'my',\n",
       " 'mother',\n",
       " 'purchased',\n",
       " 'this',\n",
       " 'little',\n",
       " 'machine',\n",
       " 'and',\n",
       " 'talked',\n",
       " 'me',\n",
       " 'into',\n",
       " 'trying',\n",
       " 'the',\n",
       " 'Latte',\n",
       " 'Macciato',\n",
       " '.',\n",
       " 'No',\n",
       " 'Coffee',\n",
       " 'Shop',\n",
       " 'has',\n",
       " 'a',\n",
       " 'better',\n",
       " 'one',\n",
       " 'and',\n",
       " 'I',\n",
       " 'like',\n",
       " 'most',\n",
       " 'of',\n",
       " 'the',\n",
       " 'other',\n",
       " 'products',\n",
       " ',',\n",
       " 'too',\n",
       " '(',\n",
       " 'as',\n",
       " 'a',\n",
       " 'usually',\n",
       " 'non-coffee',\n",
       " 'drinker',\n",
       " '!',\n",
       " ')',\n",
       " '.',\n",
       " '<',\n",
       " 'br',\n",
       " '/',\n",
       " '>',\n",
       " 'The',\n",
       " 'little',\n",
       " 'Dolche',\n",
       " 'Guesto',\n",
       " 'Machine',\n",
       " 'is',\n",
       " 'super',\n",
       " 'easy',\n",
       " 'to',\n",
       " 'use',\n",
       " 'and',\n",
       " 'prepares',\n",
       " 'a',\n",
       " 'really',\n",
       " 'good',\n",
       " 'Coffee/Latte/Cappuccino/etc',\n",
       " 'in',\n",
       " 'less',\n",
       " 'than',\n",
       " 'a',\n",
       " 'minute',\n",
       " '(',\n",
       " 'if',\n",
       " 'water',\n",
       " 'is',\n",
       " 'heated',\n",
       " 'up',\n",
       " ')',\n",
       " '.',\n",
       " 'I',\n",
       " 'would',\n",
       " 'recommend',\n",
       " 'the',\n",
       " 'Dolce',\n",
       " 'Gusto',\n",
       " 'to',\n",
       " 'anyone',\n",
       " '.',\n",
       " 'Too',\n",
       " 'good',\n",
       " 'for',\n",
       " 'the',\n",
       " 'price',\n",
       " 'and',\n",
       " \"I'am\",\n",
       " 'getting',\n",
       " 'one',\n",
       " 'myself',\n",
       " '!',\n",
       " ':',\n",
       " ')']"
      ]
     },
     "execution_count": 14,
     "metadata": {},
     "output_type": "execute_result"
    }
   ],
   "source": [
    "tokens"
   ]
  },
  {
   "cell_type": "code",
   "execution_count": 15,
   "metadata": {},
   "outputs": [],
   "source": [
    "from nltk.tag.perceptron import PerceptronTagger"
   ]
  },
  {
   "cell_type": "code",
   "execution_count": 16,
   "metadata": {},
   "outputs": [
    {
     "data": {
      "text/plain": [
       "[('I', 'PRP'),\n",
       " ('have', 'VBP'),\n",
       " ('never', 'RB'),\n",
       " ('been', 'VBN'),\n",
       " ('a', 'DT'),\n",
       " ('huge', 'JJ'),\n",
       " ('coffee', 'NN'),\n",
       " ('fan', 'NN'),\n",
       " ('.', '.'),\n",
       " ('However', 'RB')]"
      ]
     },
     "execution_count": 16,
     "metadata": {},
     "output_type": "execute_result"
    }
   ],
   "source": [
    "k = nltk.pos_tag(tokens)\n",
    "k[:10]\n",
    "\n",
    "\n",
    "\n"
   ]
  },
  {
   "cell_type": "code",
   "execution_count": 17,
   "metadata": {},
   "outputs": [
    {
     "name": "stdout",
     "output_type": "stream",
     "text": [
      "(S\n",
      "  I/PRP\n",
      "  have/VBP\n",
      "  never/RB\n",
      "  been/VBN\n",
      "  a/DT\n",
      "  huge/JJ\n",
      "  coffee/NN\n",
      "  fan/NN\n",
      "  ./.\n",
      "  However/RB\n",
      "  ,/,\n",
      "  my/PRP$\n",
      "  mother/NN\n",
      "  purchased/VBD\n",
      "  this/DT\n",
      "  little/JJ\n",
      "  machine/NN\n",
      "  and/CC\n",
      "  talked/VBD\n",
      "  me/PRP\n",
      "  into/IN\n",
      "  trying/VBG\n",
      "  the/DT\n",
      "  (ORGANIZATION Latte/NNP Macciato/NNP)\n",
      "  ./.\n",
      "  (PERSON No/NNP Coffee/NNP Shop/NNP)\n",
      "  has/VBZ\n",
      "  a/DT\n",
      "  better/JJR\n",
      "  one/CD\n",
      "  and/CC\n",
      "  I/PRP\n",
      "  like/VBP\n",
      "  most/JJS\n",
      "  of/IN\n",
      "  the/DT\n",
      "  other/JJ\n",
      "  products/NNS\n",
      "  ,/,\n",
      "  too/RB\n",
      "  (/(\n",
      "  as/IN\n",
      "  a/DT\n",
      "  usually/RB\n",
      "  non-coffee/JJ\n",
      "  drinker/NN\n",
      "  !/.\n",
      "  )/)\n",
      "  ./.\n",
      "  </JJ\n",
      "  br/NN\n",
      "  //NNP\n",
      "  >/VBZ\n",
      "  The/DT\n",
      "  little/JJ\n",
      "  (PERSON Dolche/NNP Guesto/NNP Machine/NNP)\n",
      "  is/VBZ\n",
      "  super/JJ\n",
      "  easy/JJ\n",
      "  to/TO\n",
      "  use/VB\n",
      "  and/CC\n",
      "  prepares/VBZ\n",
      "  a/DT\n",
      "  really/RB\n",
      "  good/JJ\n",
      "  Coffee/Latte/Cappuccino/etc/NNP\n",
      "  in/IN\n",
      "  less/JJR\n",
      "  than/IN\n",
      "  a/DT\n",
      "  minute/NN\n",
      "  (/(\n",
      "  if/IN\n",
      "  water/NN\n",
      "  is/VBZ\n",
      "  heated/VBN\n",
      "  up/RP\n",
      "  )/)\n",
      "  ./.\n",
      "  I/PRP\n",
      "  would/MD\n",
      "  recommend/VB\n",
      "  the/DT\n",
      "  (ORGANIZATION Dolce/NNP Gusto/NNP)\n",
      "  to/TO\n",
      "  anyone/NN\n",
      "  ./.\n",
      "  Too/NNP\n",
      "  good/JJ\n",
      "  for/IN\n",
      "  the/DT\n",
      "  price/NN\n",
      "  and/CC\n",
      "  I'am/NNP\n",
      "  getting/VBG\n",
      "  one/CD\n",
      "  myself/NN\n",
      "  !/.\n",
      "  :/:\n",
      "  )/))\n"
     ]
    }
   ],
   "source": [
    "ne_tree = nltk.chunk.ne_chunk(k)\n",
    "print(ne_tree)"
   ]
  },
  {
   "cell_type": "code",
   "execution_count": 18,
   "metadata": {},
   "outputs": [],
   "source": [
    "#veder sentiment scorer"
   ]
  },
  {
   "cell_type": "code",
   "execution_count": 19,
   "metadata": {},
   "outputs": [
    {
     "name": "stderr",
     "output_type": "stream",
     "text": [
      "[nltk_data] Downloading package vader_lexicon to\n",
      "[nltk_data]     C:\\Users\\ketan\\AppData\\Roaming\\nltk_data...\n",
      "[nltk_data]   Package vader_lexicon is already up-to-date!\n"
     ]
    }
   ],
   "source": [
    "nltk.download('vader_lexicon')\n",
    "\n",
    "from nltk.sentiment import SentimentIntensityAnalyzer\n",
    "from tqdm.notebook import tqdm\n",
    "sia = SentimentIntensityAnalyzer()"
   ]
  },
  {
   "cell_type": "code",
   "execution_count": 20,
   "metadata": {},
   "outputs": [
    {
     "data": {
      "text/plain": [
       "<nltk.sentiment.vader.SentimentIntensityAnalyzer at 0x235df3a0c50>"
      ]
     },
     "execution_count": 20,
     "metadata": {},
     "output_type": "execute_result"
    }
   ],
   "source": [
    "sia"
   ]
  },
  {
   "cell_type": "code",
   "execution_count": 21,
   "metadata": {},
   "outputs": [],
   "source": [
    "score=sia.polarity_scores('iam so happy')"
   ]
  },
  {
   "cell_type": "code",
   "execution_count": 22,
   "metadata": {},
   "outputs": [
    {
     "name": "stdout",
     "output_type": "stream",
     "text": [
      "{'neg': 0.0, 'neu': 0.334, 'pos': 0.666, 'compound': 0.6115}\n"
     ]
    }
   ],
   "source": [
    "print(score)"
   ]
  },
  {
   "cell_type": "code",
   "execution_count": 23,
   "metadata": {},
   "outputs": [
    {
     "data": {
      "text/plain": [
       "{'neg': 0.636, 'neu': 0.364, 'pos': 0.0, 'compound': -0.5423}"
      ]
     },
     "execution_count": 23,
     "metadata": {},
     "output_type": "execute_result"
    }
   ],
   "source": [
    "sia.polarity_scores('bad day today')"
   ]
  },
  {
   "cell_type": "code",
   "execution_count": 24,
   "metadata": {},
   "outputs": [
    {
     "data": {
      "application/vnd.jupyter.widget-view+json": {
       "model_id": "28ac193de8164cf49ffaf6731dfc1e97",
       "version_major": 2,
       "version_minor": 0
      },
      "text/plain": [
       "  0%|          | 0/568454 [00:00<?, ?it/s]"
      ]
     },
     "metadata": {},
     "output_type": "display_data"
    }
   ],
   "source": [
    "res={}\n",
    "for i ,row in tqdm(df.iterrows(),total=len(df)):\n",
    "    text=row['Text']\n",
    "    myid=row['Id']\n",
    "    res[myid]=sia.polarity_scores(text)\n",
    "    break"
   ]
  },
  {
   "cell_type": "markdown",
   "metadata": {},
   "source": [
    "res{}"
   ]
  },
  {
   "cell_type": "code",
   "execution_count": 25,
   "metadata": {},
   "outputs": [
    {
     "data": {
      "text/plain": [
       "{1: {'neg': 0.0, 'neu': 0.695, 'pos': 0.305, 'compound': 0.9441}}"
      ]
     },
     "execution_count": 25,
     "metadata": {},
     "output_type": "execute_result"
    }
   ],
   "source": [
    "res"
   ]
  },
  {
   "cell_type": "code",
   "execution_count": 26,
   "metadata": {},
   "outputs": [],
   "source": [
    "df=pd.DataFrame(res).T"
   ]
  },
  {
   "cell_type": "code",
   "execution_count": 27,
   "metadata": {},
   "outputs": [
    {
     "data": {
      "text/plain": [
       "<bound method NDFrame.head of    compound  neg    neu    pos\n",
       "1    0.9441  0.0  0.695  0.305>"
      ]
     },
     "execution_count": 27,
     "metadata": {},
     "output_type": "execute_result"
    }
   ],
   "source": [
    "df.head"
   ]
  }
 ],
 "metadata": {
  "kernelspec": {
   "display_name": "Python 3",
   "language": "python",
   "name": "python3"
  },
  "language_info": {
   "codemirror_mode": {
    "name": "ipython",
    "version": 3
   },
   "file_extension": ".py",
   "mimetype": "text/x-python",
   "name": "python",
   "nbconvert_exporter": "python",
   "pygments_lexer": "ipython3",
   "version": "3.11.4"
  },
  "orig_nbformat": 4
 },
 "nbformat": 4,
 "nbformat_minor": 2
}
